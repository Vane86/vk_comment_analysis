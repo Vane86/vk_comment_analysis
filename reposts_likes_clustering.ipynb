{
 "cells": [
  {
   "cell_type": "code",
   "execution_count": 1,
   "metadata": {},
   "outputs": [],
   "source": [
    "import pandas as pd\n",
    "import numpy as np"
   ]
  },
  {
   "cell_type": "code",
   "execution_count": 6,
   "metadata": {},
   "outputs": [
    {
     "data": {
      "text/plain": [
       "((7000, 7),\n",
       "         id  owner_id        date  views  likes  reposts  \\\n",
       " 0  5187887 -26284064  1685067315   7957     18        1   \n",
       " 1  5188835 -26284064  1685102438   1341      9        2   \n",
       " 2  5188834 -26284064  1685102404   1231      0        1   \n",
       " 3  5188795 -26284064  1685101512   3749     15        8   \n",
       " 4  5188775 -26284064  1685100610   4890     40        4   \n",
       " \n",
       "                                                 text  \n",
       " 0  Основные события специальной военной операции ...  \n",
       " 1  Владимир Путин проводит встречу с членами обще...  \n",
       " 2  Год назад председатель комитета Госдумы по меж...  \n",
       " 3  Причиной инцидента на Морской улице в Краснода...  \n",
       " 4  Минкультуры сообщило, что \"Троицу\" Андрея Рубл...  )"
      ]
     },
     "execution_count": 6,
     "metadata": {},
     "output_type": "execute_result"
    }
   ],
   "source": [
    "posts = pd.concat((pd.read_csv('posts_0-2000.csv'), pd.read_csv('posts_2000-7000.csv')), axis=0)\n",
    "posts.head()"
   ]
  },
  {
   "cell_type": "code",
   "execution_count": 7,
   "metadata": {},
   "outputs": [
    {
     "data": {
      "text/html": [
       "<div>\n",
       "<style scoped>\n",
       "    .dataframe tbody tr th:only-of-type {\n",
       "        vertical-align: middle;\n",
       "    }\n",
       "\n",
       "    .dataframe tbody tr th {\n",
       "        vertical-align: top;\n",
       "    }\n",
       "\n",
       "    .dataframe thead th {\n",
       "        text-align: right;\n",
       "    }\n",
       "</style>\n",
       "<table border=\"1\" class=\"dataframe\">\n",
       "  <thead>\n",
       "    <tr style=\"text-align: right;\">\n",
       "      <th></th>\n",
       "      <th>id</th>\n",
       "      <th>post_id</th>\n",
       "      <th>from_id</th>\n",
       "      <th>date</th>\n",
       "      <th>likes</th>\n",
       "      <th>reply_to_comment</th>\n",
       "      <th>text</th>\n",
       "    </tr>\n",
       "  </thead>\n",
       "  <tbody>\n",
       "    <tr>\n",
       "      <th>0</th>\n",
       "      <td>5188043</td>\n",
       "      <td>5187887</td>\n",
       "      <td>0</td>\n",
       "      <td>1685077700</td>\n",
       "      <td>0</td>\n",
       "      <td>NaN</td>\n",
       "      <td>NaN</td>\n",
       "    </tr>\n",
       "    <tr>\n",
       "      <th>1</th>\n",
       "      <td>5188229</td>\n",
       "      <td>5187887</td>\n",
       "      <td>801731288</td>\n",
       "      <td>1685085644</td>\n",
       "      <td>0</td>\n",
       "      <td>NaN</td>\n",
       "      <td>ну вот и очередной теракт Украина провела. ясм...</td>\n",
       "    </tr>\n",
       "    <tr>\n",
       "      <th>2</th>\n",
       "      <td>5188483</td>\n",
       "      <td>5187887</td>\n",
       "      <td>690352028</td>\n",
       "      <td>1685093934</td>\n",
       "      <td>0</td>\n",
       "      <td>NaN</td>\n",
       "      <td>Этой ночью наши войска хорошенько прошлись по ...</td>\n",
       "    </tr>\n",
       "    <tr>\n",
       "      <th>3</th>\n",
       "      <td>5188843</td>\n",
       "      <td>5188835</td>\n",
       "      <td>704410107</td>\n",
       "      <td>1685102649</td>\n",
       "      <td>0</td>\n",
       "      <td>NaN</td>\n",
       "      <td>NaN</td>\n",
       "    </tr>\n",
       "    <tr>\n",
       "      <th>4</th>\n",
       "      <td>5188857</td>\n",
       "      <td>5188835</td>\n",
       "      <td>804081222</td>\n",
       "      <td>1685103137</td>\n",
       "      <td>0</td>\n",
       "      <td>NaN</td>\n",
       "      <td>Сборище воров и преступников</td>\n",
       "    </tr>\n",
       "  </tbody>\n",
       "</table>\n",
       "</div>"
      ],
      "text/plain": [
       "        id  post_id    from_id        date  likes  reply_to_comment  \\\n",
       "0  5188043  5187887          0  1685077700      0               NaN   \n",
       "1  5188229  5187887  801731288  1685085644      0               NaN   \n",
       "2  5188483  5187887  690352028  1685093934      0               NaN   \n",
       "3  5188843  5188835  704410107  1685102649      0               NaN   \n",
       "4  5188857  5188835  804081222  1685103137      0               NaN   \n",
       "\n",
       "                                                text  \n",
       "0                                                NaN  \n",
       "1  ну вот и очередной теракт Украина провела. ясм...  \n",
       "2  Этой ночью наши войска хорошенько прошлись по ...  \n",
       "3                                                NaN  \n",
       "4                       Сборище воров и преступников  "
      ]
     },
     "execution_count": 7,
     "metadata": {},
     "output_type": "execute_result"
    }
   ],
   "source": [
    "comments = pd.concat((pd.read_csv('comments_0-2000.csv'), pd.read_csv('comments_2000-7000.csv')), axis=0)\n",
    "comments.head()"
   ]
  },
  {
   "cell_type": "code",
   "execution_count": 8,
   "metadata": {},
   "outputs": [
    {
     "data": {
      "text/plain": [
       "((7000, 7), (76876, 7))"
      ]
     },
     "execution_count": 8,
     "metadata": {},
     "output_type": "execute_result"
    }
   ],
   "source": [
    "posts.shape, comments.shape"
   ]
  },
  {
   "cell_type": "code",
   "execution_count": 9,
   "metadata": {},
   "outputs": [],
   "source": [
    "from matplotlib import pyplot as plt"
   ]
  },
  {
   "cell_type": "code",
   "execution_count": 20,
   "metadata": {
    "scrolled": false
   },
   "outputs": [
    {
     "data": {
      "image/png": "[encoded data removed]",
      "text/plain": [
       "<Figure size 432x288 with 1 Axes>"
      ]
     },
     "metadata": {
      "needs_background": "light"
     },
     "output_type": "display_data"
    }
   ],
   "source": [
    "plt.hist(posts.likes[posts.likes < 700], bins=100)\n",
    "plt.show()"
   ]
  },
  {
   "cell_type": "code",
   "execution_count": 23,
   "metadata": {},
   "outputs": [
    {
     "data": {
      "image/png": "[encoded data removed]",
      "text/plain": [
       "<Figure size 432x288 with 1 Axes>"
      ]
     },
     "metadata": {
      "needs_background": "light"
     },
     "output_type": "display_data"
    }
   ],
   "source": [
    "plt.hist(posts.reposts[posts.reposts < 200], bins=100)\n",
    "plt.show()"
   ]
  },
  {
   "cell_type": "code",
   "execution_count": 25,
   "metadata": {},
   "outputs": [
    {
     "data": {
      "image/png": "[encoded data removed]",
      "text/plain": [
       "<Figure size 432x288 with 1 Axes>"
      ]
     },
     "metadata": {
      "needs_background": "light"
     },
     "output_type": "display_data"
    }
   ],
   "source": [
    "plt.scatter(posts.reposts, posts.likes)\n",
    "plt.show()"
   ]
  },
  {
   "cell_type": "code",
   "execution_count": 164,
   "metadata": {},
   "outputs": [],
   "source": [
    "post_likes_reposts = posts[['likes', 'reposts']].to_numpy()"
   ]
  },
  {
   "cell_type": "code",
   "execution_count": 165,
   "metadata": {},
   "outputs": [],
   "source": [
    "plr_cos = np.array([[np.arccos(p[0] / (p[0] ** 2 + p[1] ** 2) ** 0.5), (p[0] ** 2 + p[1] ** 2) ** 0.5] for p in post_likes_reposts])"
   ]
  },
  {
   "cell_type": "code",
   "execution_count": 166,
   "metadata": {},
   "outputs": [
    {
     "data": {
      "image/png": "[encoded data removed]",
      "text/plain": [
       "<Figure size 432x288 with 1 Axes>"
      ]
     },
     "metadata": {
      "needs_background": "light"
     },
     "output_type": "display_data"
    }
   ],
   "source": [
    "plt.scatter(*plr_cos.T)\n",
    "plt.show()"
   ]
  },
  {
   "cell_type": "code",
   "execution_count": 172,
   "metadata": {},
   "outputs": [],
   "source": [
    "from sklearn.cluster import KMeans\n",
    "cluster = KMeans(n_clusters=3)\n",
    "cluster_res = cluster.fit_predict(plr_cos)"
   ]
  },
  {
   "cell_type": "code",
   "execution_count": 173,
   "metadata": {},
   "outputs": [
    {
     "data": {
      "text/plain": [
       "2"
      ]
     },
     "execution_count": 173,
     "metadata": {},
     "output_type": "execute_result"
    }
   ],
   "source": [
    "max(cluster_res)"
   ]
  },
  {
   "cell_type": "code",
   "execution_count": 174,
   "metadata": {},
   "outputs": [],
   "source": [
    "import random"
   ]
  },
  {
   "cell_type": "code",
   "execution_count": 175,
   "metadata": {},
   "outputs": [
    {
     "data": {
      "image/png": "[encoded data removed]",
      "text/plain": [
       "<Figure size 432x288 with 1 Axes>"
      ]
     },
     "metadata": {
      "needs_background": "light"
     },
     "output_type": "display_data"
    }
   ],
   "source": [
    "random_colors = [f'#{hex(random.randint(0, 1677215))[2:].rjust(6, \"0\")}' for _ in range(max(cluster_res) + 1)]\n",
    "plt.scatter(*plr_cos.T, c=[random_colors[i] for i in cluster_res])\n",
    "plt.show()"
   ]
  },
  {
   "cell_type": "code",
   "execution_count": 177,
   "metadata": {},
   "outputs": [],
   "source": [
    "posts.iloc[[i for i, cl in enumerate(cluster_res) if cl == 1]].to_csv('cl2.csv')"
   ]
  },
  {
   "cell_type": "code",
   "execution_count": null,
   "metadata": {},
   "outputs": [],
   "source": [
    "import nltk\n",
    "\n"
   ]
  }
 ],
 "metadata": {
  "kernelspec": {
   "display_name": "Python 3",
   "language": "python",
   "name": "python3"
  },
  "language_info": {
   "codemirror_mode": {
    "name": "ipython",
    "version": 3
   },
   "file_extension": ".py",
   "mimetype": "text/x-python",
   "name": "python",
   "nbconvert_exporter": "python",
   "pygments_lexer": "ipython3",
   "version": "3.8.5"
  }
 },
 "nbformat": 4,
 "nbformat_minor": 4
}
