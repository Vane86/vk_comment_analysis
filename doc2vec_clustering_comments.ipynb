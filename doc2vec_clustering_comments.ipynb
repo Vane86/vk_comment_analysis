{
 "cells": [
  {
   "cell_type": "code",
   "execution_count": 1,
   "metadata": {},
   "outputs": [
    {
     "name": "stderr",
     "output_type": "stream",
     "text": [
      "[nltk_data] Downloading package punkt to C:\\Users\\Артем\n",
      "[nltk_data]     Буданцев\\AppData\\Roaming\\nltk_data...\n",
      "[nltk_data]   Package punkt is already up-to-date!\n",
      "[nltk_data] Downloading package stopwords to C:\\Users\\Артем\n",
      "[nltk_data]     Буданцев\\AppData\\Roaming\\nltk_data...\n",
      "[nltk_data]   Package stopwords is already up-to-date!\n"
     ]
    },
    {
     "data": {
      "text/plain": [
       "True"
      ]
     },
     "execution_count": 1,
     "metadata": {},
     "output_type": "execute_result"
    }
   ],
   "source": [
    "import pandas as pd\n",
    "import numpy as np\n",
    "import nltk\n",
    "\n",
    "nltk.download('punkt')\n",
    "nltk.download('stopwords')"
   ]
  },
  {
   "cell_type": "code",
   "execution_count": 24,
   "metadata": {},
   "outputs": [
    {
     "data": {
      "text/html": [
       "<div>\n",
       "<style scoped>\n",
       "    .dataframe tbody tr th:only-of-type {\n",
       "        vertical-align: middle;\n",
       "    }\n",
       "\n",
       "    .dataframe tbody tr th {\n",
       "        vertical-align: top;\n",
       "    }\n",
       "\n",
       "    .dataframe thead th {\n",
       "        text-align: right;\n",
       "    }\n",
       "</style>\n",
       "<table border=\"1\" class=\"dataframe\">\n",
       "  <thead>\n",
       "    <tr style=\"text-align: right;\">\n",
       "      <th></th>\n",
       "      <th>id</th>\n",
       "      <th>post_id</th>\n",
       "      <th>from_id</th>\n",
       "      <th>date</th>\n",
       "      <th>likes</th>\n",
       "      <th>reply_to_comment</th>\n",
       "      <th>text</th>\n",
       "    </tr>\n",
       "  </thead>\n",
       "  <tbody>\n",
       "    <tr>\n",
       "      <th>1</th>\n",
       "      <td>5188229</td>\n",
       "      <td>5187887</td>\n",
       "      <td>801731288</td>\n",
       "      <td>1685085644</td>\n",
       "      <td>0</td>\n",
       "      <td>NaN</td>\n",
       "      <td>ну вот и очередной теракт Украина провела. ясм...</td>\n",
       "    </tr>\n",
       "    <tr>\n",
       "      <th>2</th>\n",
       "      <td>5188483</td>\n",
       "      <td>5187887</td>\n",
       "      <td>690352028</td>\n",
       "      <td>1685093934</td>\n",
       "      <td>0</td>\n",
       "      <td>NaN</td>\n",
       "      <td>Этой ночью наши войска хорошенько прошлись по ...</td>\n",
       "    </tr>\n",
       "    <tr>\n",
       "      <th>4</th>\n",
       "      <td>5188857</td>\n",
       "      <td>5188835</td>\n",
       "      <td>804081222</td>\n",
       "      <td>1685103137</td>\n",
       "      <td>0</td>\n",
       "      <td>NaN</td>\n",
       "      <td>Сборище воров и преступников</td>\n",
       "    </tr>\n",
       "    <tr>\n",
       "      <th>9</th>\n",
       "      <td>5188790</td>\n",
       "      <td>5188775</td>\n",
       "      <td>709590604</td>\n",
       "      <td>1685101388</td>\n",
       "      <td>0</td>\n",
       "      <td>NaN</td>\n",
       "      <td>К ней надо ставить охрану</td>\n",
       "    </tr>\n",
       "    <tr>\n",
       "      <th>10</th>\n",
       "      <td>5188703</td>\n",
       "      <td>5188688</td>\n",
       "      <td>153563384</td>\n",
       "      <td>1685098953</td>\n",
       "      <td>1</td>\n",
       "      <td>NaN</td>\n",
       "      <td>Солидный инстумент,и уже обкатан на передке СВ...</td>\n",
       "    </tr>\n",
       "  </tbody>\n",
       "</table>\n",
       "</div>"
      ],
      "text/plain": [
       "         id  post_id    from_id        date  likes  reply_to_comment  \\\n",
       "1   5188229  5187887  801731288  1685085644      0               NaN   \n",
       "2   5188483  5187887  690352028  1685093934      0               NaN   \n",
       "4   5188857  5188835  804081222  1685103137      0               NaN   \n",
       "9   5188790  5188775  709590604  1685101388      0               NaN   \n",
       "10  5188703  5188688  153563384  1685098953      1               NaN   \n",
       "\n",
       "                                                 text  \n",
       "1   ну вот и очередной теракт Украина провела. ясм...  \n",
       "2   Этой ночью наши войска хорошенько прошлись по ...  \n",
       "4                        Сборище воров и преступников  \n",
       "9                           К ней надо ставить охрану  \n",
       "10  Солидный инстумент,и уже обкатан на передке СВ...  "
      ]
     },
     "execution_count": 24,
     "metadata": {},
     "output_type": "execute_result"
    }
   ],
   "source": [
    "comments = pd.concat((pd.read_csv('comments_0-2000.csv'), pd.read_csv('comments_2000-7000.csv')), axis=0).dropna(subset=['text'])\n",
    "comments.head()"
   ]
  },
  {
   "cell_type": "code",
   "execution_count": 11,
   "metadata": {},
   "outputs": [],
   "source": [
    "comments_texts = [text.replace('\\\\n', '\\n') for text in comments.text]"
   ]
  },
  {
   "cell_type": "code",
   "execution_count": 12,
   "metadata": {},
   "outputs": [],
   "source": [
    "from nltk.tokenize import word_tokenize\n",
    "comments_tokens = [[tok for tok in word_tokenize(text.lower(), language='russian')] for text in comments_texts]"
   ]
  },
  {
   "cell_type": "code",
   "execution_count": 13,
   "metadata": {
    "scrolled": true
   },
   "outputs": [
    {
     "name": "stderr",
     "output_type": "stream",
     "text": [
      "100%|███████████████████████████████████████████████████████████████████████████| 69468/69468 [03:21<00:00, 344.80it/s]\n"
     ]
    },
    {
     "data": {
      "text/plain": [
       "[['очередной',\n",
       "  'теракт',\n",
       "  'украина',\n",
       "  'провести',\n",
       "  '.',\n",
       "  'ясмотреть',\n",
       "  'мочь',\n",
       "  'проживать'],\n",
       " ['ночью',\n",
       "  'наш',\n",
       "  'войско',\n",
       "  'хорошенько',\n",
       "  'пройтись',\n",
       "  'позиция',\n",
       "  'всу',\n",
       "  'геранька',\n",
       "  'калибр'],\n",
       " ['сборище', 'вор', 'преступник'],\n",
       " ['ставить', 'охрана'],\n",
       " ['солидный',\n",
       "  'инстумент',\n",
       "  ',',\n",
       "  'обкатать',\n",
       "  'передок',\n",
       "  'сво',\n",
       "  '.',\n",
       "  'достойный',\n",
       "  '``',\n",
       "  'внук',\n",
       "  \"''\",\n",
       "  'свд',\n",
       "  '.'],\n",
       " ['🇷🇺🇷🇺🇷🇺приятный',\n",
       "  'видеть',\n",
       "  ',',\n",
       "  'легендарный',\n",
       "  'образец',\n",
       "  'русский',\n",
       "  'оружие',\n",
       "  'иметь',\n",
       "  'продолжение',\n",
       "  'апгрейта',\n",
       "  '!',\n",
       "  '!',\n",
       "  '!',\n",
       "  '👍'],\n",
       " ['начало',\n",
       "  'это',\n",
       "  'год',\n",
       "  'президент',\n",
       "  'россия',\n",
       "  'владимир',\n",
       "  'путин',\n",
       "  'посетить',\n",
       "  'концерн',\n",
       "  '«',\n",
       "  'калашников',\n",
       "  '»',\n",
       "  ',',\n",
       "  'изготовитель',\n",
       "  '«',\n",
       "  'свч',\n",
       "  '»',\n",
       "  ',',\n",
       "  'произвести',\n",
       "  'несколько',\n",
       "  'выстрел',\n",
       "  '.',\n",
       "  'снайперский',\n",
       "  'винтовка',\n",
       "  'чукавино',\n",
       "  'получить',\n",
       "  'широкий',\n",
       "  'известность',\n",
       "  'появление',\n",
       "  'пресса',\n",
       "  'фотография',\n",
       "  ',',\n",
       "  'который',\n",
       "  'запечатлеть',\n",
       "  'стрелять',\n",
       "  'президент',\n",
       "  'россия',\n",
       "  'владимир',\n",
       "  'путин',\n",
       "  '.',\n",
       "  'винтовка',\n",
       "  'путин',\n",
       "  'присутствовать',\n",
       "  'немецкий',\n",
       "  'оптический',\n",
       "  'прицел',\n",
       "  '«',\n",
       "  'шмидт',\n",
       "  'бендер',\n",
       "  '»',\n",
       "  '(',\n",
       "  'schmidt',\n",
       "  'and',\n",
       "  'bender',\n",
       "  'riflescope',\n",
       "  ')',\n",
       "  ',',\n",
       "  'который',\n",
       "  ',',\n",
       "  'вероятно',\n",
       "  ',',\n",
       "  'оснащаться',\n",
       "  'винтовка',\n",
       "  'российский',\n",
       "  'армия',\n",
       "  ',',\n",
       "  'поскольку',\n",
       "  'очень',\n",
       "  'дорогой',\n",
       "  '.'],\n",
       " ['стивен', 'сигать', 'одобрить', '?', '?', '?'],\n",
       " ['знать', ',', 'свч', 'опасно', 'жизнь'],\n",
       " ['озабоченность', '🤣']]"
      ]
     },
     "execution_count": 13,
     "metadata": {},
     "output_type": "execute_result"
    }
   ],
   "source": [
    "import pymorphy2\n",
    "from tqdm import tqdm\n",
    "from nltk.corpus import stopwords\n",
    "russian_stopwords = stopwords.words(\"russian\")\n",
    "\n",
    "parser = pymorphy2.MorphAnalyzer()\n",
    "normalized_comments_tokens = list()\n",
    "for comment in tqdm(comments_tokens):\n",
    "    new_tokens = [normal_form for tok in comment if (normal_form := parser.parse(tok)[0].normal_form) not in russian_stopwords]\n",
    "    normalized_comments_tokens.append(new_tokens)\n",
    "\n",
    "normalized_comments_tokens[:10]"
   ]
  },
  {
   "cell_type": "code",
   "execution_count": 41,
   "metadata": {},
   "outputs": [],
   "source": [
    "def prepare_text(text, analyzer=None):\n",
    "    tokens = [tok for tok in word_tokenize(text.replace('\\\\n', '\\n').lower(), language='russian')]\n",
    "    parser = analyzer or pymorphy2.MorphAnalyzer()\n",
    "    new_tokens = [normal_form for tok in tokens if (normal_form := parser.parse(tok)[0].normal_form) not in russian_stopwords]\n",
    "    return new_tokens"
   ]
  },
  {
   "cell_type": "code",
   "execution_count": 14,
   "metadata": {
    "scrolled": true
   },
   "outputs": [
    {
     "name": "stderr",
     "output_type": "stream",
     "text": [
      "D:\\anaconda3\\lib\\site-packages\\paramiko\\transport.py:219: CryptographyDeprecationWarning: Blowfish has been deprecated\n",
      "  \"class\": algorithms.Blowfish,\n"
     ]
    },
    {
     "data": {
      "text/plain": [
       "[TaggedDocument(words=['очередной', 'теракт', 'украина', 'провести', '.', 'ясмотреть', 'мочь', 'проживать'], tags=[0]),\n",
       " TaggedDocument(words=['ночью', 'наш', 'войско', 'хорошенько', 'пройтись', 'позиция', 'всу', 'геранька', 'калибр'], tags=[1]),\n",
       " TaggedDocument(words=['сборище', 'вор', 'преступник'], tags=[2]),\n",
       " TaggedDocument(words=['ставить', 'охрана'], tags=[3]),\n",
       " TaggedDocument(words=['солидный', 'инстумент', ',', 'обкатать', 'передок', 'сво', '.', 'достойный', '``', 'внук', \"''\", 'свд', '.'], tags=[4]),\n",
       " TaggedDocument(words=['🇷🇺🇷🇺🇷🇺приятный', 'видеть', ',', 'легендарный', 'образец', 'русский', 'оружие', 'иметь', 'продолжение', 'апгрейта', '!', '!', '!', '👍'], tags=[5]),\n",
       " TaggedDocument(words=['начало', 'это', 'год', 'президент', 'россия', 'владимир', 'путин', 'посетить', 'концерн', '«', 'калашников', '»', ',', 'изготовитель', '«', 'свч', '»', ',', 'произвести', 'несколько', 'выстрел', '.', 'снайперский', 'винтовка', 'чукавино', 'получить', 'широкий', 'известность', 'появление', 'пресса', 'фотография', ',', 'который', 'запечатлеть', 'стрелять', 'президент', 'россия', 'владимир', 'путин', '.', 'винтовка', 'путин', 'присутствовать', 'немецкий', 'оптический', 'прицел', '«', 'шмидт', 'бендер', '»', '(', 'schmidt', 'and', 'bender', 'riflescope', ')', ',', 'который', ',', 'вероятно', ',', 'оснащаться', 'винтовка', 'российский', 'армия', ',', 'поскольку', 'очень', 'дорогой', '.'], tags=[6]),\n",
       " TaggedDocument(words=['стивен', 'сигать', 'одобрить', '?', '?', '?'], tags=[7]),\n",
       " TaggedDocument(words=['знать', ',', 'свч', 'опасно', 'жизнь'], tags=[8]),\n",
       " TaggedDocument(words=['озабоченность', '🤣'], tags=[9])]"
      ]
     },
     "execution_count": 14,
     "metadata": {},
     "output_type": "execute_result"
    }
   ],
   "source": [
    "import gensim\n",
    "tagged_normalized_comments_tokens = [gensim.models.doc2vec.TaggedDocument(comment, [i]) for i, comment in enumerate(normalized_comments_tokens)]\n",
    "tagged_normalized_comments_tokens[:10]"
   ]
  },
  {
   "cell_type": "code",
   "execution_count": 99,
   "metadata": {},
   "outputs": [],
   "source": [
    "model = gensim.models.doc2vec.Doc2Vec(vector_size=128, min_count=2, epochs=100)\n",
    "model.build_vocab(tagged_normalized_comments_tokens)\n",
    "model.train(tagged_normalized_comments_tokens, total_examples=model.corpus_count, epochs=model.epochs)"
   ]
  },
  {
   "cell_type": "code",
   "execution_count": 100,
   "metadata": {},
   "outputs": [
    {
     "data": {
      "text/plain": [
       "array([[-0.23510708,  0.7082023 ,  0.25866425, ...,  0.17366199,\n",
       "         0.4086131 , -0.4292447 ],\n",
       "       [-0.24349415, -0.03012537, -0.43125546, ...,  0.31880823,\n",
       "        -0.01186133,  0.6642454 ],\n",
       "       [ 0.01876086, -0.07407078, -0.04717764, ..., -0.1350836 ,\n",
       "        -0.05234072,  0.229971  ],\n",
       "       ...,\n",
       "       [ 0.12542436,  0.07326221, -0.00707446, ...,  0.18934955,\n",
       "         0.03966351, -0.16092242],\n",
       "       [-0.02386817, -0.16174716, -0.08287842, ...,  0.00554032,\n",
       "        -0.1534871 ,  0.05840402],\n",
       "       [-0.39700755, -0.01129232,  0.22148092, ...,  0.2576661 ,\n",
       "         0.14808716,  0.22396268]], dtype=float32)"
      ]
     },
     "execution_count": 100,
     "metadata": {},
     "output_type": "execute_result"
    }
   ],
   "source": [
    "comments_vectors = np.array([model.infer_vector(comment.words) for comment in tagged_normalized_comments_tokens])\n",
    "comments_vectors[:10]"
   ]
  },
  {
   "cell_type": "code",
   "execution_count": 101,
   "metadata": {},
   "outputs": [],
   "source": [
    "from umap import UMAP\n",
    "umap = UMAP(metric='cosine')\n",
    "proj_comments = umap.fit_transform(comments_vectors)"
   ]
  },
  {
   "cell_type": "code",
   "execution_count": 102,
   "metadata": {},
   "outputs": [
    {
     "data": {
      "text/plain": [
       "<matplotlib.collections.PathCollection at 0x137062ff340>"
      ]
     },
     "execution_count": 102,
     "metadata": {},
     "output_type": "execute_result"
    },
    {
     "data": {
      "image/png": "[encoded data removed]",
      "text/plain": [
       "<Figure size 432x288 with 1 Axes>"
      ]
     },
     "metadata": {
      "needs_background": "light"
     },
     "output_type": "display_data"
    }
   ],
   "source": [
    "from matplotlib import pyplot as plt\n",
    "\n",
    "plt.scatter(proj_comments[:, 0], proj_comments[:, 1], s=2)"
   ]
  },
  {
   "cell_type": "code",
   "execution_count": 93,
   "metadata": {},
   "outputs": [
    {
     "name": "stdout",
     "output_type": "stream",
     "text": [
      "24\n"
     ]
    }
   ],
   "source": [
    "from sklearn.cluster import KMeans, DBSCAN\n",
    "from sklearn.preprocessing import normalize\n",
    "clust_alg = KMeans(n_clusters=10)\n",
    "# clust_alg = DBSCAN(eps=0.0009, metric='cosine')\n",
    "\n",
    "clusters = clust_alg.fit_predict(normalize(comments_vectors))\n",
    "print(max(clusters))"
   ]
  },
  {
   "cell_type": "code",
   "execution_count": 94,
   "metadata": {},
   "outputs": [
    {
     "data": {
      "image/png": "[encoded data removed]",
      "text/plain": [
       "<Figure size 432x288 with 1 Axes>"
      ]
     },
     "metadata": {
      "needs_background": "light"
     },
     "output_type": "display_data"
    }
   ],
   "source": [
    "import random\n",
    "random_colors = [f'#{hex(random.randint(0, 1677215))[2:].rjust(6, \"0\")}' for _ in range(max(clusters) + 1)]\n",
    "plt.scatter(proj_comments[:, 0], proj_comments[:, 1], s=1, c=[random_colors[i] for i in clusters])\n",
    "plt.show()"
   ]
  },
  {
   "cell_type": "code",
   "execution_count": 95,
   "metadata": {},
   "outputs": [
    {
     "ename": "KeyboardInterrupt",
     "evalue": "",
     "output_type": "error",
     "traceback": [
      "\u001b[1;31m---------------------------------------------------------------------------\u001b[0m",
      "\u001b[1;31mKeyboardInterrupt\u001b[0m                         Traceback (most recent call last)",
      "\u001b[1;32m<ipython-input-95-d702f7a873ff>\u001b[0m in \u001b[0;36m<module>\u001b[1;34m\u001b[0m\n\u001b[0;32m      1\u001b[0m \u001b[1;32mfor\u001b[0m \u001b[0mclust_id\u001b[0m \u001b[1;32min\u001b[0m \u001b[0mclusters\u001b[0m\u001b[1;33m:\u001b[0m\u001b[1;33m\u001b[0m\u001b[1;33m\u001b[0m\u001b[0m\n\u001b[1;32m----> 2\u001b[1;33m     \u001b[0mcomments\u001b[0m\u001b[1;33m.\u001b[0m\u001b[0miloc\u001b[0m\u001b[1;33m[\u001b[0m\u001b[1;33m[\u001b[0m\u001b[0mi\u001b[0m \u001b[1;32mfor\u001b[0m \u001b[0mi\u001b[0m \u001b[1;32min\u001b[0m \u001b[0mrange\u001b[0m\u001b[1;33m(\u001b[0m\u001b[0mlen\u001b[0m\u001b[1;33m(\u001b[0m\u001b[0mclusters\u001b[0m\u001b[1;33m)\u001b[0m\u001b[1;33m)\u001b[0m \u001b[1;32mif\u001b[0m \u001b[0mclusters\u001b[0m\u001b[1;33m[\u001b[0m\u001b[0mi\u001b[0m\u001b[1;33m]\u001b[0m \u001b[1;33m==\u001b[0m \u001b[0mclust_id\u001b[0m\u001b[1;33m]\u001b[0m\u001b[1;33m]\u001b[0m\u001b[1;33m.\u001b[0m\u001b[0mto_csv\u001b[0m\u001b[1;33m(\u001b[0m\u001b[1;34mf'comments_clust{clust_id}.csv'\u001b[0m\u001b[1;33m)\u001b[0m\u001b[1;33m\u001b[0m\u001b[1;33m\u001b[0m\u001b[0m\n\u001b[0m",
      "\u001b[1;32mD:\\anaconda3\\lib\\site-packages\\pandas\\core\\indexing.py\u001b[0m in \u001b[0;36m__getitem__\u001b[1;34m(self, key)\u001b[0m\n\u001b[0;32m    877\u001b[0m \u001b[1;33m\u001b[0m\u001b[0m\n\u001b[0;32m    878\u001b[0m             \u001b[0mmaybe_callable\u001b[0m \u001b[1;33m=\u001b[0m \u001b[0mcom\u001b[0m\u001b[1;33m.\u001b[0m\u001b[0mapply_if_callable\u001b[0m\u001b[1;33m(\u001b[0m\u001b[0mkey\u001b[0m\u001b[1;33m,\u001b[0m \u001b[0mself\u001b[0m\u001b[1;33m.\u001b[0m\u001b[0mobj\u001b[0m\u001b[1;33m)\u001b[0m\u001b[1;33m\u001b[0m\u001b[1;33m\u001b[0m\u001b[0m\n\u001b[1;32m--> 879\u001b[1;33m             \u001b[1;32mreturn\u001b[0m \u001b[0mself\u001b[0m\u001b[1;33m.\u001b[0m\u001b[0m_getitem_axis\u001b[0m\u001b[1;33m(\u001b[0m\u001b[0mmaybe_callable\u001b[0m\u001b[1;33m,\u001b[0m \u001b[0maxis\u001b[0m\u001b[1;33m=\u001b[0m\u001b[0maxis\u001b[0m\u001b[1;33m)\u001b[0m\u001b[1;33m\u001b[0m\u001b[1;33m\u001b[0m\u001b[0m\n\u001b[0m\u001b[0;32m    880\u001b[0m \u001b[1;33m\u001b[0m\u001b[0m\n\u001b[0;32m    881\u001b[0m     \u001b[1;32mdef\u001b[0m \u001b[0m_is_scalar_access\u001b[0m\u001b[1;33m(\u001b[0m\u001b[0mself\u001b[0m\u001b[1;33m,\u001b[0m \u001b[0mkey\u001b[0m\u001b[1;33m:\u001b[0m \u001b[0mTuple\u001b[0m\u001b[1;33m)\u001b[0m\u001b[1;33m:\u001b[0m\u001b[1;33m\u001b[0m\u001b[1;33m\u001b[0m\u001b[0m\n",
      "\u001b[1;32mD:\\anaconda3\\lib\\site-packages\\pandas\\core\\indexing.py\u001b[0m in \u001b[0;36m_getitem_axis\u001b[1;34m(self, key, axis)\u001b[0m\n\u001b[0;32m   1485\u001b[0m         \u001b[1;31m# a list of integers\u001b[0m\u001b[1;33m\u001b[0m\u001b[1;33m\u001b[0m\u001b[1;33m\u001b[0m\u001b[0m\n\u001b[0;32m   1486\u001b[0m         \u001b[1;32melif\u001b[0m \u001b[0mis_list_like_indexer\u001b[0m\u001b[1;33m(\u001b[0m\u001b[0mkey\u001b[0m\u001b[1;33m)\u001b[0m\u001b[1;33m:\u001b[0m\u001b[1;33m\u001b[0m\u001b[1;33m\u001b[0m\u001b[0m\n\u001b[1;32m-> 1487\u001b[1;33m             \u001b[1;32mreturn\u001b[0m \u001b[0mself\u001b[0m\u001b[1;33m.\u001b[0m\u001b[0m_get_list_axis\u001b[0m\u001b[1;33m(\u001b[0m\u001b[0mkey\u001b[0m\u001b[1;33m,\u001b[0m \u001b[0maxis\u001b[0m\u001b[1;33m=\u001b[0m\u001b[0maxis\u001b[0m\u001b[1;33m)\u001b[0m\u001b[1;33m\u001b[0m\u001b[1;33m\u001b[0m\u001b[0m\n\u001b[0m\u001b[0;32m   1488\u001b[0m \u001b[1;33m\u001b[0m\u001b[0m\n\u001b[0;32m   1489\u001b[0m         \u001b[1;31m# a single integer\u001b[0m\u001b[1;33m\u001b[0m\u001b[1;33m\u001b[0m\u001b[1;33m\u001b[0m\u001b[0m\n",
      "\u001b[1;32mD:\\anaconda3\\lib\\site-packages\\pandas\\core\\indexing.py\u001b[0m in \u001b[0;36m_get_list_axis\u001b[1;34m(self, key, axis)\u001b[0m\n\u001b[0;32m   1467\u001b[0m         \"\"\"\n\u001b[0;32m   1468\u001b[0m         \u001b[1;32mtry\u001b[0m\u001b[1;33m:\u001b[0m\u001b[1;33m\u001b[0m\u001b[1;33m\u001b[0m\u001b[0m\n\u001b[1;32m-> 1469\u001b[1;33m             \u001b[1;32mreturn\u001b[0m \u001b[0mself\u001b[0m\u001b[1;33m.\u001b[0m\u001b[0mobj\u001b[0m\u001b[1;33m.\u001b[0m\u001b[0m_take_with_is_copy\u001b[0m\u001b[1;33m(\u001b[0m\u001b[0mkey\u001b[0m\u001b[1;33m,\u001b[0m \u001b[0maxis\u001b[0m\u001b[1;33m=\u001b[0m\u001b[0maxis\u001b[0m\u001b[1;33m)\u001b[0m\u001b[1;33m\u001b[0m\u001b[1;33m\u001b[0m\u001b[0m\n\u001b[0m\u001b[0;32m   1470\u001b[0m         \u001b[1;32mexcept\u001b[0m \u001b[0mIndexError\u001b[0m \u001b[1;32mas\u001b[0m \u001b[0merr\u001b[0m\u001b[1;33m:\u001b[0m\u001b[1;33m\u001b[0m\u001b[1;33m\u001b[0m\u001b[0m\n\u001b[0;32m   1471\u001b[0m             \u001b[1;31m# re-raise with different error message\u001b[0m\u001b[1;33m\u001b[0m\u001b[1;33m\u001b[0m\u001b[1;33m\u001b[0m\u001b[0m\n",
      "\u001b[1;32mD:\\anaconda3\\lib\\site-packages\\pandas\\core\\generic.py\u001b[0m in \u001b[0;36m_take_with_is_copy\u001b[1;34m(self, indices, axis)\u001b[0m\n\u001b[0;32m   3361\u001b[0m         \u001b[0mSee\u001b[0m \u001b[0mthe\u001b[0m \u001b[0mdocstring\u001b[0m \u001b[0mof\u001b[0m\u001b[0;31m \u001b[0m\u001b[0;31m`\u001b[0m\u001b[0mtake\u001b[0m\u001b[0;31m`\u001b[0m \u001b[1;32mfor\u001b[0m \u001b[0mfull\u001b[0m \u001b[0mexplanation\u001b[0m \u001b[0mof\u001b[0m \u001b[0mthe\u001b[0m \u001b[0mparameters\u001b[0m\u001b[1;33m.\u001b[0m\u001b[1;33m\u001b[0m\u001b[1;33m\u001b[0m\u001b[0m\n\u001b[0;32m   3362\u001b[0m         \"\"\"\n\u001b[1;32m-> 3363\u001b[1;33m         \u001b[0mresult\u001b[0m \u001b[1;33m=\u001b[0m \u001b[0mself\u001b[0m\u001b[1;33m.\u001b[0m\u001b[0mtake\u001b[0m\u001b[1;33m(\u001b[0m\u001b[0mindices\u001b[0m\u001b[1;33m=\u001b[0m\u001b[0mindices\u001b[0m\u001b[1;33m,\u001b[0m \u001b[0maxis\u001b[0m\u001b[1;33m=\u001b[0m\u001b[0maxis\u001b[0m\u001b[1;33m)\u001b[0m\u001b[1;33m\u001b[0m\u001b[1;33m\u001b[0m\u001b[0m\n\u001b[0m\u001b[0;32m   3364\u001b[0m         \u001b[1;31m# Maybe set copy if we didn't actually change the index.\u001b[0m\u001b[1;33m\u001b[0m\u001b[1;33m\u001b[0m\u001b[1;33m\u001b[0m\u001b[0m\n\u001b[0;32m   3365\u001b[0m         \u001b[1;32mif\u001b[0m \u001b[1;32mnot\u001b[0m \u001b[0mresult\u001b[0m\u001b[1;33m.\u001b[0m\u001b[0m_get_axis\u001b[0m\u001b[1;33m(\u001b[0m\u001b[0maxis\u001b[0m\u001b[1;33m)\u001b[0m\u001b[1;33m.\u001b[0m\u001b[0mequals\u001b[0m\u001b[1;33m(\u001b[0m\u001b[0mself\u001b[0m\u001b[1;33m.\u001b[0m\u001b[0m_get_axis\u001b[0m\u001b[1;33m(\u001b[0m\u001b[0maxis\u001b[0m\u001b[1;33m)\u001b[0m\u001b[1;33m)\u001b[0m\u001b[1;33m:\u001b[0m\u001b[1;33m\u001b[0m\u001b[1;33m\u001b[0m\u001b[0m\n",
      "\u001b[1;32mD:\\anaconda3\\lib\\site-packages\\pandas\\core\\generic.py\u001b[0m in \u001b[0;36mtake\u001b[1;34m(self, indices, axis, is_copy, **kwargs)\u001b[0m\n\u001b[0;32m   3348\u001b[0m         \u001b[0mself\u001b[0m\u001b[1;33m.\u001b[0m\u001b[0m_consolidate_inplace\u001b[0m\u001b[1;33m(\u001b[0m\u001b[1;33m)\u001b[0m\u001b[1;33m\u001b[0m\u001b[1;33m\u001b[0m\u001b[0m\n\u001b[0;32m   3349\u001b[0m \u001b[1;33m\u001b[0m\u001b[0m\n\u001b[1;32m-> 3350\u001b[1;33m         new_data = self._mgr.take(\n\u001b[0m\u001b[0;32m   3351\u001b[0m             \u001b[0mindices\u001b[0m\u001b[1;33m,\u001b[0m \u001b[0maxis\u001b[0m\u001b[1;33m=\u001b[0m\u001b[0mself\u001b[0m\u001b[1;33m.\u001b[0m\u001b[0m_get_block_manager_axis\u001b[0m\u001b[1;33m(\u001b[0m\u001b[0maxis\u001b[0m\u001b[1;33m)\u001b[0m\u001b[1;33m,\u001b[0m \u001b[0mverify\u001b[0m\u001b[1;33m=\u001b[0m\u001b[1;32mTrue\u001b[0m\u001b[1;33m\u001b[0m\u001b[1;33m\u001b[0m\u001b[0m\n\u001b[0;32m   3352\u001b[0m         )\n",
      "\u001b[1;32mD:\\anaconda3\\lib\\site-packages\\pandas\\core\\internals\\managers.py\u001b[0m in \u001b[0;36mtake\u001b[1;34m(self, indexer, axis, verify, convert)\u001b[0m\n\u001b[0;32m   1438\u001b[0m         \u001b[0mn\u001b[0m \u001b[1;33m=\u001b[0m \u001b[0mself\u001b[0m\u001b[1;33m.\u001b[0m\u001b[0mshape\u001b[0m\u001b[1;33m[\u001b[0m\u001b[0maxis\u001b[0m\u001b[1;33m]\u001b[0m\u001b[1;33m\u001b[0m\u001b[1;33m\u001b[0m\u001b[0m\n\u001b[0;32m   1439\u001b[0m         \u001b[1;32mif\u001b[0m \u001b[0mconvert\u001b[0m\u001b[1;33m:\u001b[0m\u001b[1;33m\u001b[0m\u001b[1;33m\u001b[0m\u001b[0m\n\u001b[1;32m-> 1440\u001b[1;33m             \u001b[0mindexer\u001b[0m \u001b[1;33m=\u001b[0m \u001b[0mmaybe_convert_indices\u001b[0m\u001b[1;33m(\u001b[0m\u001b[0mindexer\u001b[0m\u001b[1;33m,\u001b[0m \u001b[0mn\u001b[0m\u001b[1;33m)\u001b[0m\u001b[1;33m\u001b[0m\u001b[1;33m\u001b[0m\u001b[0m\n\u001b[0m\u001b[0;32m   1441\u001b[0m \u001b[1;33m\u001b[0m\u001b[0m\n\u001b[0;32m   1442\u001b[0m         \u001b[1;32mif\u001b[0m \u001b[0mverify\u001b[0m\u001b[1;33m:\u001b[0m\u001b[1;33m\u001b[0m\u001b[1;33m\u001b[0m\u001b[0m\n",
      "\u001b[1;32mD:\\anaconda3\\lib\\site-packages\\pandas\\core\\indexers.py\u001b[0m in \u001b[0;36mmaybe_convert_indices\u001b[1;34m(indices, n)\u001b[0m\n\u001b[0;32m    241\u001b[0m             \u001b[1;32mreturn\u001b[0m \u001b[0mnp\u001b[0m\u001b[1;33m.\u001b[0m\u001b[0mempty\u001b[0m\u001b[1;33m(\u001b[0m\u001b[1;36m0\u001b[0m\u001b[1;33m,\u001b[0m \u001b[0mdtype\u001b[0m\u001b[1;33m=\u001b[0m\u001b[0mnp\u001b[0m\u001b[1;33m.\u001b[0m\u001b[0mintp\u001b[0m\u001b[1;33m)\u001b[0m\u001b[1;33m\u001b[0m\u001b[1;33m\u001b[0m\u001b[0m\n\u001b[0;32m    242\u001b[0m \u001b[1;33m\u001b[0m\u001b[0m\n\u001b[1;32m--> 243\u001b[1;33m     \u001b[0mmask\u001b[0m \u001b[1;33m=\u001b[0m \u001b[0mindices\u001b[0m \u001b[1;33m<\u001b[0m \u001b[1;36m0\u001b[0m\u001b[1;33m\u001b[0m\u001b[1;33m\u001b[0m\u001b[0m\n\u001b[0m\u001b[0;32m    244\u001b[0m     \u001b[1;32mif\u001b[0m \u001b[0mmask\u001b[0m\u001b[1;33m.\u001b[0m\u001b[0many\u001b[0m\u001b[1;33m(\u001b[0m\u001b[1;33m)\u001b[0m\u001b[1;33m:\u001b[0m\u001b[1;33m\u001b[0m\u001b[1;33m\u001b[0m\u001b[0m\n\u001b[0;32m    245\u001b[0m         \u001b[0mindices\u001b[0m \u001b[1;33m=\u001b[0m \u001b[0mindices\u001b[0m\u001b[1;33m.\u001b[0m\u001b[0mcopy\u001b[0m\u001b[1;33m(\u001b[0m\u001b[1;33m)\u001b[0m\u001b[1;33m\u001b[0m\u001b[1;33m\u001b[0m\u001b[0m\n",
      "\u001b[1;31mKeyboardInterrupt\u001b[0m: "
     ]
    }
   ],
   "source": [
    "for clust_id in clusters:\n",
    "    comments.iloc[[i for i in range(len(clusters)) if clusters[i] == clust_id]].to_csv(f'comments_clust{clust_id}.csv')"
   ]
  },
  {
   "cell_type": "code",
   "execution_count": 149,
   "metadata": {},
   "outputs": [
    {
     "name": "stderr",
     "output_type": "stream",
     "text": [
      "D:\\anaconda3\\lib\\site-packages\\sklearn\\neural_network\\_multilayer_perceptron.py:582: ConvergenceWarning: Stochastic Optimizer: Maximum iterations (200) reached and the optimization hasn't converged yet.\n",
      "  warnings.warn(\n"
     ]
    },
    {
     "data": {
      "text/plain": [
       "MLPRegressor(hidden_layer_sizes=(256,))"
      ]
     },
     "execution_count": 149,
     "metadata": {},
     "output_type": "execute_result"
    }
   ],
   "source": [
    "from sklearn.linear_model import LinearRegression\n",
    "from sklearn.neural_network import MLPRegressor\n",
    "from sklearn.model_selection import train_test_split\n",
    "\n",
    "X_train, X_test, y_train, y_test = train_test_split(comments_vectors, comments.likes.to_numpy(), test_size=0.1)\n",
    "\n",
    "reg = MLPRegressor(learning_rate_init=0.001, hidden_layer_sizes=(256,))\n",
    "reg.fit(X_train, y_train)"
   ]
  },
  {
   "cell_type": "code",
   "execution_count": 152,
   "metadata": {},
   "outputs": [
    {
     "data": {
      "text/plain": [
       "(1.0322548714696853, 0.8096694812558479)"
      ]
     },
     "execution_count": 152,
     "metadata": {},
     "output_type": "execute_result"
    }
   ],
   "source": [
    "from sklearn.metrics import mean_squared_error\n",
    "mean_squared_error(np.clip(reg.predict(X_test), 0, 100), y_test) ** 0.5 / y_test.std(), mean_squared_error(np.clip(reg.predict(X_train), 0, 100), y_train) ** 0.5 / y_train.std()"
   ]
  },
  {
   "cell_type": "code",
   "execution_count": 105,
   "metadata": {},
   "outputs": [
    {
     "name": "stdout",
     "output_type": "stream",
     "text": [
      "Медведева слушать себя не уважать , он с единственной фразой потерял уважение , денег нет , но вы держитесь , этого размазню наверно из-за фамилии взяли в правительство , сейчас он как посмешище для народа\n"
     ]
    },
    {
     "data": {
      "text/plain": [
       "7766     кто первый уйдет то и сильнее второй слабак и ...\n",
       "28095                                          да и пофиг.\n",
       "2999     Когда фраза бомбить Воронеж трансформировалась...\n",
       "12886               Монархов много , они не единственные .\n",
       "53011    ДЕНИС    Проценко  какой  молодец!  Врач  от  ...\n",
       "46614                     Наркошу слушать себя не уважать.\n",
       "28955    После этой фразы в польском поезде начался сущ...\n",
       "27465    И где же-эта древняя культура-совсем достоинст...\n",
       "43881    Кто ж Медведеву статьи пишет? Сам то он два сл...\n",
       "175      Медведева слушать себя не уважать , он с единс...\n",
       "Name: text, dtype: object"
      ]
     },
     "execution_count": 105,
     "metadata": {},
     "output_type": "execute_result"
    }
   ],
   "source": [
    "comment = comments.iloc[[157]].text.values[0]\n",
    "print(comment)\n",
    "comment_vec = model.infer_vector(prepare_text(comment))\n",
    "indices = [x[0] for x in sorted(enumerate(comments_vectors), key=lambda x: (x[1] @ comment_vec) / np.linalg.norm(x[1]) / np.linalg.norm(comment_vec))[-10:]]\n",
    "comments.iloc[indices].text"
   ]
  },
  {
   "cell_type": "code",
   "execution_count": 56,
   "metadata": {},
   "outputs": [
    {
     "data": {
      "text/html": [
       "<div>\n",
       "<style scoped>\n",
       "    .dataframe tbody tr th:only-of-type {\n",
       "        vertical-align: middle;\n",
       "    }\n",
       "\n",
       "    .dataframe tbody tr th {\n",
       "        vertical-align: top;\n",
       "    }\n",
       "\n",
       "    .dataframe thead th {\n",
       "        text-align: right;\n",
       "    }\n",
       "</style>\n",
       "<table border=\"1\" class=\"dataframe\">\n",
       "  <thead>\n",
       "    <tr style=\"text-align: right;\">\n",
       "      <th></th>\n",
       "      <th>id</th>\n",
       "      <th>post_id</th>\n",
       "      <th>from_id</th>\n",
       "      <th>date</th>\n",
       "      <th>likes</th>\n",
       "      <th>reply_to_comment</th>\n",
       "      <th>text</th>\n",
       "    </tr>\n",
       "  </thead>\n",
       "  <tbody>\n",
       "    <tr>\n",
       "      <th>50672</th>\n",
       "      <td>4992806</td>\n",
       "      <td>4991802</td>\n",
       "      <td>285646277</td>\n",
       "      <td>1676817168</td>\n",
       "      <td>0</td>\n",
       "      <td>NaN</td>\n",
       "      <td>Всё видят и знают, но ничего не меняется</td>\n",
       "    </tr>\n",
       "  </tbody>\n",
       "</table>\n",
       "</div>"
      ],
      "text/plain": [
       "            id  post_id    from_id        date  likes  reply_to_comment  \\\n",
       "50672  4992806  4991802  285646277  1676817168      0               NaN   \n",
       "\n",
       "                                           text  \n",
       "50672  Всё видят и знают, но ничего не меняется  "
      ]
     },
     "execution_count": 56,
     "metadata": {},
     "output_type": "execute_result"
    }
   ],
   "source": [
    "comments.iloc[[65863]]"
   ]
  },
  {
   "cell_type": "code",
   "execution_count": 154,
   "metadata": {},
   "outputs": [
    {
     "data": {
      "text/plain": [
       "[(0.0, 18),\n",
       " (10.250546451856628, 25),\n",
       " (9.311272418296808, 0),\n",
       " (5.988825163110093, 2),\n",
       " (7.2888702673595525, 1),\n",
       " (3.071940927787189, 0),\n",
       " (4.200497896339981, 0),\n",
       " (0.0, 0),\n",
       " (0.043335341564707086, 0),\n",
       " (0.0, 2),\n",
       " (1.2717502087368509, 1),\n",
       " (5.76739565590891, 4),\n",
       " (0.7644048168937303, 4),\n",
       " (5.344389602349629, 0),\n",
       " (13.899450218109767, 3),\n",
       " (3.355338302728878, 0),\n",
       " (0.9374028044570797, 0),\n",
       " (9.000618427650455, 7),\n",
       " (1.731131706932775, 0),\n",
       " (5.973328275487821, 1),\n",
       " (0.0, 4),\n",
       " (0.0, 0),\n",
       " (15.617016473428961, 0),\n",
       " (0.3550703016029595, 0),\n",
       " (5.571986187021993, 1),\n",
       " (3.5077169987059413, 0),\n",
       " (3.1747152617143666, 0),\n",
       " (0.0, 0),\n",
       " (23.793264332370207, 0),\n",
       " (0.0, 0),\n",
       " (3.140684418895205, 4),\n",
       " (8.55508486415605, 4),\n",
       " (4.510481228451864, 8),\n",
       " (0.0, 7),\n",
       " (0.0, 0),\n",
       " (0.0, 0),\n",
       " (10.40114741394062, 0),\n",
       " (2.450924519162858, 2),\n",
       " (1.2222129434944442, 10),\n",
       " (7.422409682496681, 1)]"
      ]
     },
     "execution_count": 154,
     "metadata": {},
     "output_type": "execute_result"
    }
   ],
   "source": [
    "list(zip(np.clip(reg.predict(X_test), 0, 100), y_test))[:40]"
   ]
  },
  {
   "cell_type": "code",
   "execution_count": null,
   "metadata": {},
   "outputs": [],
   "source": []
  }
 ],
 "metadata": {
  "kernelspec": {
   "display_name": "Python 3",
   "language": "python",
   "name": "python3"
  },
  "language_info": {
   "codemirror_mode": {
    "name": "ipython",
    "version": 3
   },
   "file_extension": ".py",
   "mimetype": "text/x-python",
   "name": "python",
   "nbconvert_exporter": "python",
   "pygments_lexer": "ipython3",
   "version": "3.8.5"
  }
 },
 "nbformat": 4,
 "nbformat_minor": 4
}
