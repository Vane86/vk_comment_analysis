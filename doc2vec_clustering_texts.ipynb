{
 "cells": [
  {
   "cell_type": "code",
   "execution_count": 1,
   "metadata": {},
   "outputs": [
    {
     "name": "stderr",
     "output_type": "stream",
     "text": [
      "[nltk_data] Downloading package punkt to C:\\Users\\Артем\n",
      "[nltk_data]     Буданцев\\AppData\\Roaming\\nltk_data...\n",
      "[nltk_data]   Package punkt is already up-to-date!\n",
      "[nltk_data] Downloading package stopwords to C:\\Users\\Артем\n",
      "[nltk_data]     Буданцев\\AppData\\Roaming\\nltk_data...\n",
      "[nltk_data]   Package stopwords is already up-to-date!\n"
     ]
    },
    {
     "data": {
      "text/plain": [
       "True"
      ]
     },
     "execution_count": 1,
     "metadata": {},
     "output_type": "execute_result"
    }
   ],
   "source": [
    "import pandas as pd\n",
    "import numpy as np\n",
    "import nltk\n",
    "\n",
    "nltk.download('punkt')\n",
    "nltk.download('stopwords')"
   ]
  },
  {
   "cell_type": "code",
   "execution_count": 2,
   "metadata": {},
   "outputs": [],
   "source": [
    "texts_df = pd.read_csv('comments_0-30000.csv').dropna(subset=['text'])"
   ]
  },
  {
   "cell_type": "code",
   "execution_count": 3,
   "metadata": {},
   "outputs": [],
   "source": [
    "texts = [text.replace('\\\\n', '\\n') for text in texts_df.text]"
   ]
  },
  {
   "cell_type": "code",
   "execution_count": 4,
   "metadata": {},
   "outputs": [],
   "source": [
    "from nltk.tokenize import word_tokenize\n",
    "texts_tokens = [[tok for tok in word_tokenize(text.lower(), language='russian') if not tok.startswith('//')] for text in texts]"
   ]
  },
  {
   "cell_type": "code",
   "execution_count": 5,
   "metadata": {
    "scrolled": true
   },
   "outputs": [
    {
     "name": "stderr",
     "output_type": "stream",
     "text": [
      "100%|█████████████████████████████████████████████████████████████████████████| 229562/229562 [10:05<00:00, 379.21it/s]\n"
     ]
    },
    {
     "data": {
      "text/plain": [
       "[['очередной',\n",
       "  'теракт',\n",
       "  'украина',\n",
       "  'провести',\n",
       "  '.',\n",
       "  'ясмотреть',\n",
       "  'мочь',\n",
       "  'проживать'],\n",
       " ['ночью',\n",
       "  'наш',\n",
       "  'войско',\n",
       "  'хорошенько',\n",
       "  'пройтись',\n",
       "  'позиция',\n",
       "  'всу',\n",
       "  'геранька',\n",
       "  'калибр'],\n",
       " ['сборище', 'вор', 'преступник'],\n",
       " ['ставить', 'охрана'],\n",
       " ['солидный',\n",
       "  'инстумент',\n",
       "  ',',\n",
       "  'обкатать',\n",
       "  'передок',\n",
       "  'сво',\n",
       "  '.',\n",
       "  'достойный',\n",
       "  '``',\n",
       "  'внук',\n",
       "  \"''\",\n",
       "  'свд',\n",
       "  '.'],\n",
       " ['🇷🇺🇷🇺🇷🇺приятный',\n",
       "  'видеть',\n",
       "  ',',\n",
       "  'легендарный',\n",
       "  'образец',\n",
       "  'русский',\n",
       "  'оружие',\n",
       "  'иметь',\n",
       "  'продолжение',\n",
       "  'апгрейта',\n",
       "  '!',\n",
       "  '!',\n",
       "  '!',\n",
       "  '👍'],\n",
       " ['начало',\n",
       "  'это',\n",
       "  'год',\n",
       "  'президент',\n",
       "  'россия',\n",
       "  'владимир',\n",
       "  'путин',\n",
       "  'посетить',\n",
       "  'концерн',\n",
       "  '«',\n",
       "  'калашников',\n",
       "  '»',\n",
       "  ',',\n",
       "  'изготовитель',\n",
       "  '«',\n",
       "  'свч',\n",
       "  '»',\n",
       "  ',',\n",
       "  'произвести',\n",
       "  'несколько',\n",
       "  'выстрел',\n",
       "  '.',\n",
       "  'снайперский',\n",
       "  'винтовка',\n",
       "  'чукавино',\n",
       "  'получить',\n",
       "  'широкий',\n",
       "  'известность',\n",
       "  'появление',\n",
       "  'пресса',\n",
       "  'фотография',\n",
       "  ',',\n",
       "  'который',\n",
       "  'запечатлеть',\n",
       "  'стрелять',\n",
       "  'президент',\n",
       "  'россия',\n",
       "  'владимир',\n",
       "  'путин',\n",
       "  '.',\n",
       "  'винтовка',\n",
       "  'путин',\n",
       "  'присутствовать',\n",
       "  'немецкий',\n",
       "  'оптический',\n",
       "  'прицел',\n",
       "  '«',\n",
       "  'шмидт',\n",
       "  'бендер',\n",
       "  '»',\n",
       "  '(',\n",
       "  'schmidt',\n",
       "  'and',\n",
       "  'bender',\n",
       "  'riflescope',\n",
       "  ')',\n",
       "  ',',\n",
       "  'который',\n",
       "  ',',\n",
       "  'вероятно',\n",
       "  ',',\n",
       "  'оснащаться',\n",
       "  'винтовка',\n",
       "  'российский',\n",
       "  'армия',\n",
       "  ',',\n",
       "  'поскольку',\n",
       "  'очень',\n",
       "  'дорогой',\n",
       "  '.'],\n",
       " ['стивен', 'сигать', 'одобрить', '?', '?', '?'],\n",
       " ['знать', ',', 'свч', 'опасно', 'жизнь'],\n",
       " ['озабоченность', '🤣']]"
      ]
     },
     "execution_count": 5,
     "metadata": {},
     "output_type": "execute_result"
    }
   ],
   "source": [
    "import pymorphy2\n",
    "from tqdm import tqdm\n",
    "from nltk.corpus import stopwords\n",
    "russian_stopwords = stopwords.words(\"russian\")\n",
    "\n",
    "parser = pymorphy2.MorphAnalyzer()\n",
    "normalized_texts_tokens = list()\n",
    "for text in tqdm(texts_tokens):\n",
    "    new_tokens = [normal_form for tok in text if (normal_form := parser.parse(tok)[0].normal_form) not in russian_stopwords]\n",
    "    normalized_texts_tokens.append(new_tokens)\n",
    "\n",
    "normalized_texts_tokens[:10]"
   ]
  },
  {
   "cell_type": "code",
   "execution_count": 6,
   "metadata": {
    "scrolled": true
   },
   "outputs": [
    {
     "name": "stderr",
     "output_type": "stream",
     "text": [
      "D:\\anaconda3\\lib\\site-packages\\paramiko\\transport.py:219: CryptographyDeprecationWarning: Blowfish has been deprecated\n",
      "  \"class\": algorithms.Blowfish,\n"
     ]
    },
    {
     "data": {
      "text/plain": [
       "[TaggedDocument(words=['очередной', 'теракт', 'украина', 'провести', '.', 'ясмотреть', 'мочь', 'проживать'], tags=[0]),\n",
       " TaggedDocument(words=['ночью', 'наш', 'войско', 'хорошенько', 'пройтись', 'позиция', 'всу', 'геранька', 'калибр'], tags=[1]),\n",
       " TaggedDocument(words=['сборище', 'вор', 'преступник'], tags=[2]),\n",
       " TaggedDocument(words=['ставить', 'охрана'], tags=[3]),\n",
       " TaggedDocument(words=['солидный', 'инстумент', ',', 'обкатать', 'передок', 'сво', '.', 'достойный', '``', 'внук', \"''\", 'свд', '.'], tags=[4]),\n",
       " TaggedDocument(words=['🇷🇺🇷🇺🇷🇺приятный', 'видеть', ',', 'легендарный', 'образец', 'русский', 'оружие', 'иметь', 'продолжение', 'апгрейта', '!', '!', '!', '👍'], tags=[5]),\n",
       " TaggedDocument(words=['начало', 'это', 'год', 'президент', 'россия', 'владимир', 'путин', 'посетить', 'концерн', '«', 'калашников', '»', ',', 'изготовитель', '«', 'свч', '»', ',', 'произвести', 'несколько', 'выстрел', '.', 'снайперский', 'винтовка', 'чукавино', 'получить', 'широкий', 'известность', 'появление', 'пресса', 'фотография', ',', 'который', 'запечатлеть', 'стрелять', 'президент', 'россия', 'владимир', 'путин', '.', 'винтовка', 'путин', 'присутствовать', 'немецкий', 'оптический', 'прицел', '«', 'шмидт', 'бендер', '»', '(', 'schmidt', 'and', 'bender', 'riflescope', ')', ',', 'который', ',', 'вероятно', ',', 'оснащаться', 'винтовка', 'российский', 'армия', ',', 'поскольку', 'очень', 'дорогой', '.'], tags=[6]),\n",
       " TaggedDocument(words=['стивен', 'сигать', 'одобрить', '?', '?', '?'], tags=[7]),\n",
       " TaggedDocument(words=['знать', ',', 'свч', 'опасно', 'жизнь'], tags=[8]),\n",
       " TaggedDocument(words=['озабоченность', '🤣'], tags=[9])]"
      ]
     },
     "execution_count": 6,
     "metadata": {},
     "output_type": "execute_result"
    }
   ],
   "source": [
    "import gensim\n",
    "tagged_normalized_texts_tokens = [gensim.models.doc2vec.TaggedDocument(text, [i]) for i, text in enumerate(normalized_texts_tokens)]"
   ]
  },
  {
   "cell_type": "code",
   "execution_count": 22,
   "metadata": {},
   "outputs": [],
   "source": [
    "model = gensim.models.doc2vec.Doc2Vec(vector_size=64, min_count=2, epochs=200)\n",
    "model.build_vocab(tagged_normalized_texts_tokens)\n",
    "model.train(tagged_normalized_texts_tokens, total_examples=model.corpus_count, epochs=model.epochs)"
   ]
  },
  {
   "cell_type": "code",
   "execution_count": 23,
   "metadata": {},
   "outputs": [
    {
     "name": "stderr",
     "output_type": "stream",
     "text": [
      "100%|████████████████████████████████████████████████████████████████████████| 229562/229562 [1:54:41<00:00, 33.36it/s]\n"
     ]
    },
    {
     "data": {
      "text/plain": [
       "array([[-1.4569806 , -0.8762057 ,  0.07472531, -0.19526668,  0.04117819,\n",
       "         1.8887558 , -0.33913627,  1.3489343 , -0.31276655,  0.2119645 ,\n",
       "        -1.75394   ,  1.2764117 , -1.5562482 , -0.09257868,  1.40342   ,\n",
       "         1.0076128 , -0.42109352,  0.18634489,  0.18889922,  0.35129935,\n",
       "         0.8691954 ,  0.8436832 , -0.25612655,  0.30626073, -1.2136564 ,\n",
       "         0.81917214, -0.38288814, -0.84723824,  0.1897239 ,  2.3849711 ,\n",
       "         0.6749619 ,  1.7640097 , -1.3217896 , -0.48030424, -0.07152723,\n",
       "         0.95444566, -1.3595755 ,  1.3328327 , -2.3423862 ,  0.08602834,\n",
       "        -0.17522167, -0.3908285 ,  0.26273742,  1.912222  ,  0.45010227,\n",
       "         0.59504545, -0.49396315,  1.1903229 , -1.8980677 ,  0.24703105,\n",
       "        -0.8353053 ,  0.16397159,  1.2020665 , -0.86033064,  1.0749892 ,\n",
       "         2.3539987 ,  1.1596211 ,  0.7977468 ,  1.6864969 ,  0.90568274,\n",
       "         0.9202513 ,  0.00899437,  2.1076596 , -0.16769722],\n",
       "       [ 0.86823124,  0.63883847, -2.172475  , -1.3571783 ,  1.1216924 ,\n",
       "        -0.32620272, -2.117075  , -0.80773336, -1.5372988 , -1.5835599 ,\n",
       "        -0.87122804, -1.5883285 ,  1.2233373 , -0.9121395 ,  1.2920345 ,\n",
       "         0.22454658, -0.71584314, -0.8926701 , -1.4071257 , -1.4083575 ,\n",
       "        -1.8732812 ,  0.9683894 ,  0.18145198,  1.0936333 ,  1.0611806 ,\n",
       "        -1.3506764 ,  0.01002201, -1.5444545 ,  1.6085411 ,  1.6115868 ,\n",
       "         0.26588258,  0.5133302 ,  1.1635543 ,  0.08801714, -0.89201   ,\n",
       "        -0.08365832,  1.2537142 , -1.6942815 ,  0.09751939,  1.842522  ,\n",
       "        -1.8407892 ,  0.543383  ,  0.64812416, -1.767234  , -0.08547162,\n",
       "         1.0085996 ,  1.2919353 , -0.1982265 , -2.531308  , -1.2202313 ,\n",
       "        -1.6023669 , -0.29034537, -0.9654403 , -1.2823396 ,  0.51120085,\n",
       "         0.9536662 ,  1.0401855 , -1.2598002 , -0.5445614 ,  0.08186132,\n",
       "         1.3615279 ,  0.59428155,  0.6789466 , -0.31198332],\n",
       "       [-0.20115338, -0.08687042, -0.68203574, -0.25396356, -0.71748596,\n",
       "         1.4432187 ,  0.1078243 , -0.6070781 , -1.1305711 , -0.15544821,\n",
       "         0.24602823, -0.4165067 ,  0.6320748 ,  0.19872524, -0.27132756,\n",
       "        -0.7116975 , -0.84041977, -0.08569276,  0.456534  , -0.09119403,\n",
       "         0.21312489,  0.2469714 , -0.54527456,  1.7479103 ,  0.8011328 ,\n",
       "         0.26750237,  1.3644357 ,  0.28598562,  0.11288428, -0.39872816,\n",
       "        -0.11667385,  0.46851796,  0.9282237 , -0.32511985, -0.19262177,\n",
       "        -0.21583764, -0.05058368, -0.30791256, -0.46505842,  0.01274309,\n",
       "         0.13135023, -0.48340368, -0.89394987, -0.48602706, -0.00979749,\n",
       "        -0.02535752,  0.22025035, -0.6576231 ,  0.6762831 ,  0.56570315,\n",
       "        -0.69024765,  0.69707847, -0.1452805 , -0.07977475,  0.64259124,\n",
       "         0.6032298 ,  0.74441385,  0.6699838 ,  0.04898947,  0.03302296,\n",
       "        -0.2065807 ,  1.087983  ,  0.6563955 , -0.6812927 ]],\n",
       "      dtype=float32)"
      ]
     },
     "execution_count": 23,
     "metadata": {},
     "output_type": "execute_result"
    }
   ],
   "source": [
    "texts_vectors = np.array([model.infer_vector(text.words) for text in tqdm(tagged_normalized_texts_tokens)])\n",
    "texts_vectors[:3]"
   ]
  },
  {
   "cell_type": "code",
   "execution_count": 24,
   "metadata": {},
   "outputs": [],
   "source": [
    "from umap import UMAP\n",
    "umap = UMAP(metric='cosine')\n",
    "proj_texts = umap.fit_transform(texts_vectors)"
   ]
  },
  {
   "cell_type": "code",
   "execution_count": 25,
   "metadata": {},
   "outputs": [
    {
     "data": {
      "image/png": "[encoded data removed]",
      "text/plain": [
       "<Figure size 432x288 with 1 Axes>"
      ]
     },
     "metadata": {
      "needs_background": "light"
     },
     "output_type": "display_data"
    }
   ],
   "source": [
    "from matplotlib import pyplot as plt\n",
    "\n",
    "plt.scatter(proj_texts[:, 0], proj_texts[:, 1], s=2)\n",
    "plt.show()"
   ]
  },
  {
   "cell_type": "code",
   "execution_count": 26,
   "metadata": {},
   "outputs": [
    {
     "data": {
      "text/plain": [
       "<seaborn.axisgrid.FacetGrid at 0x1f5905c6c70>"
      ]
     },
     "execution_count": 26,
     "metadata": {},
     "output_type": "execute_result"
    },
    {
     "data": {
      "image/png": "[encoded data removed]",
      "text/plain": [
       "<Figure size 360x360 with 1 Axes>"
      ]
     },
     "metadata": {
      "needs_background": "light"
     },
     "output_type": "display_data"
    }
   ],
   "source": [
    "import seaborn as sns\n",
    "\n",
    "sns.displot(pd.DataFrame(proj_texts, columns=['0', '1']), x='0', y='1')"
   ]
  },
  {
   "cell_type": "code",
   "execution_count": 27,
   "metadata": {},
   "outputs": [
    {
     "data": {
      "text/plain": [
       "-1"
      ]
     },
     "execution_count": 27,
     "metadata": {},
     "output_type": "execute_result"
    }
   ],
   "source": [
    "from sklearn.cluster import KMeans, DBSCAN\n",
    "from sklearn.preprocessing import normalize\n",
    "clust_alg = DBSCAN(eps=0.001, metric='cosine', min_samples=70)\n",
    "\n",
    "clusters = clust_alg.fit_predict(texts_vectors)\n",
    "# clusters = clust_alg.fit_predict(proj_texts)\n",
    "max(clusters)"
   ]
  },
  {
   "cell_type": "code",
   "execution_count": 28,
   "metadata": {},
   "outputs": [
    {
     "name": "stdout",
     "output_type": "stream",
     "text": [
      "0\n"
     ]
    }
   ],
   "source": [
    "import colorsys\n",
    "dot_colors = [colorsys.hsv_to_rgb(i / (max(clusters) + 1), 1.0, 1.0) for i in range(max(clusters) + 1)]\n",
    "filtered_proj_texts = proj_texts[clusters != -1]\n",
    "filtered_clusters = clusters[clusters != -1]\n",
    "noisy_proj_texts = proj_texts[clusters == -1]\n",
    "print(len(filtered_proj_texts))"
   ]
  },
  {
   "cell_type": "code",
   "execution_count": 29,
   "metadata": {},
   "outputs": [
    {
     "data": {
      "image/png": "[encoded data removed]",
      "text/plain": [
       "<Figure size 432x288 with 1 Axes>"
      ]
     },
     "metadata": {
      "needs_background": "light"
     },
     "output_type": "display_data"
    }
   ],
   "source": [
    "# %matplotlib notebook\n",
    "%matplotlib inline\n",
    "plt.scatter(noisy_proj_texts[:, 0], noisy_proj_texts[:, 1], \n",
    "            s=1, \n",
    "            c='#80808080',\n",
    "            label=-1)\n",
    "for clust_id in range(max(clusters) + 1):\n",
    "    clust_texts = proj_texts[clusters == clust_id]\n",
    "    plt.scatter(clust_texts[:, 0], clust_texts[:, 1], \n",
    "                s=5, \n",
    "                color=dot_colors[clust_id], \n",
    "                label=clust_id)\n",
    "plt.legend(loc='right')\n",
    "plt.show()"
   ]
  },
  {
   "cell_type": "code",
   "execution_count": 30,
   "metadata": {},
   "outputs": [],
   "source": [
    "for clust_id in clusters:\n",
    "    if clust_id not in (-1, 0):\n",
    "        texts_df.iloc[[i for i in range(len(clusters)) if clusters[i] == clust_id]].to_csv(f'texts_clust{clust_id}.csv')"
   ]
  },
  {
   "cell_type": "code",
   "execution_count": 31,
   "metadata": {},
   "outputs": [],
   "source": [
    "from sklearn.linear_model import LinearRegression\n",
    "from sklearn.neural_network import MLPRegressor\n",
    "from sklearn.model_selection import train_test_split\n",
    "\n",
    "X_train, X_test, y_train, y_test = train_test_split(texts_vectors, texts_df.likes.to_numpy(), test_size=0.1)\n",
    "\n",
    "reg = LinearRegression().fit(X_train, y_train)\n",
    "# reg = MLPRegressor(learning_rate_init=0.05, hidden_layer_sizes=(64,)).fit(X_train, y_train)"
   ]
  },
  {
   "cell_type": "code",
   "execution_count": 32,
   "metadata": {},
   "outputs": [
    {
     "data": {
      "text/plain": [
       "(0.9952581981488131, 0.994377891381643)"
      ]
     },
     "execution_count": 32,
     "metadata": {},
     "output_type": "execute_result"
    }
   ],
   "source": [
    "from sklearn.metrics import mean_squared_error\n",
    "mean_squared_error(reg.predict(X_train), y_train) ** 0.5 / y_train.std(), mean_squared_error(reg.predict(X_test), y_test) ** 0.5 / y_test.std()"
   ]
  },
  {
   "cell_type": "code",
   "execution_count": 33,
   "metadata": {},
   "outputs": [
    {
     "data": {
      "text/plain": [
       "[(2.787294, 2),\n",
       " (4.762044, 0),\n",
       " (2.4589534, 2),\n",
       " (2.6427002, 1),\n",
       " (3.4573774, 0),\n",
       " (3.4234405, 5),\n",
       " (5.981724, 0),\n",
       " (1.4409647, 1),\n",
       " (4.609416, 6),\n",
       " (2.5650427, 0),\n",
       " (3.3499873, 1),\n",
       " (3.2700644, 4),\n",
       " (5.870446, 0),\n",
       " (3.3811147, 0),\n",
       " (2.7359872, 0),\n",
       " (4.75057, 0),\n",
       " (2.105403, 0),\n",
       " (3.373696, 5),\n",
       " (2.5717306, 2),\n",
       " (2.595242, 0)]"
      ]
     },
     "execution_count": 33,
     "metadata": {},
     "output_type": "execute_result"
    }
   ],
   "source": [
    "list(zip(reg.predict(X_train), y_train))[:20]"
   ]
  }
 ],
 "metadata": {
  "kernelspec": {
   "display_name": "Python 3",
   "language": "python",
   "name": "python3"
  },
  "language_info": {
   "codemirror_mode": {
    "name": "ipython",
    "version": 3
   },
   "file_extension": ".py",
   "mimetype": "text/x-python",
   "name": "python",
   "nbconvert_exporter": "python",
   "pygments_lexer": "ipython3",
   "version": "3.8.5"
  }
 },
 "nbformat": 4,
 "nbformat_minor": 4
}
